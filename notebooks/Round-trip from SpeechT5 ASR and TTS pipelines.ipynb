{
 "cells": [
  {
   "cell_type": "markdown",
   "id": "099c72c2",
   "metadata": {},
   "source": [
    "Following HuggingFace SpeechT5 tutorial to combine ASR and TTS (https://huggingface.co/blog/speecht5)\n"
   ]
  },
  {
   "cell_type": "code",
   "execution_count": 1,
   "id": "9a1b4e6f",
   "metadata": {},
   "outputs": [],
   "source": [
    "!pip install -q torch\n",
    "!pip install -q sentencepiece\n",
    "!pip install -q torchaudio \n",
    "!pip install -q transformers\n",
    "!pip install -q soundfile\n",
    "\n",
    "# there's probably a better library for playing audio \n",
    "!pip install -q simpleaudio "
   ]
  },
  {
   "cell_type": "code",
   "execution_count": 2,
   "id": "ddc4ef37",
   "metadata": {},
   "outputs": [
    {
     "name": "stdout",
     "output_type": "stream",
     "text": [
      "2086-149220-0033.wav\r\n"
     ]
    }
   ],
   "source": [
    "!ls ../data"
   ]
  },
  {
   "cell_type": "code",
   "execution_count": 3,
   "id": "c413c360",
   "metadata": {},
   "outputs": [],
   "source": [
    "# load an example sound file\n",
    "\n",
    "import soundfile as sf\n",
    "# returns a tuple of (NumPy array of the waveform, sampling rate)\n",
    "input_sound_tuple = sf.read(\"../data/2086-149220-0033.wav\")"
   ]
  },
  {
   "cell_type": "code",
   "execution_count": 4,
   "id": "8df20ca4",
   "metadata": {},
   "outputs": [
    {
     "data": {
      "text/plain": [
       "(array([0.00000000e+00, 9.15527344e-05, 9.15527344e-05, ...,\n",
       "        1.22070312e-04, 1.22070312e-04, 1.22070312e-04]),\n",
       " 16000)"
      ]
     },
     "execution_count": 4,
     "metadata": {},
     "output_type": "execute_result"
    }
   ],
   "source": [
    "input_sound_tuple"
   ]
  },
  {
   "cell_type": "code",
   "execution_count": 5,
   "id": "f6e207ab",
   "metadata": {},
   "outputs": [],
   "source": [
    "input_sound, sampling_rate = input_sound_tuple"
   ]
  },
  {
   "cell_type": "code",
   "execution_count": 13,
   "id": "1ea11a0f",
   "metadata": {},
   "outputs": [
    {
     "name": "stderr",
     "output_type": "stream",
     "text": [
      "Some weights of the model checkpoint at microsoft/speecht5_asr were not used when initializing SpeechT5ForSpeechToText: ['speecht5.encoder.prenet.pos_conv_embed.conv.weight_g', 'speecht5.encoder.prenet.pos_conv_embed.conv.weight_v']\n",
      "- This IS expected if you are initializing SpeechT5ForSpeechToText from the checkpoint of a model trained on another task or with another architecture (e.g. initializing a BertForSequenceClassification model from a BertForPreTraining model).\n",
      "- This IS NOT expected if you are initializing SpeechT5ForSpeechToText from the checkpoint of a model that you expect to be exactly identical (initializing a BertForSequenceClassification model from a BertForSequenceClassification model).\n",
      "Some weights of SpeechT5ForSpeechToText were not initialized from the model checkpoint at microsoft/speecht5_asr and are newly initialized: ['speecht5.encoder.prenet.pos_conv_embed.conv.parametrizations.weight.original1', 'speecht5.encoder.prenet.pos_conv_embed.conv.parametrizations.weight.original0', 'speecht5.encoder.prenet.pos_sinusoidal_embed.weights']\n",
      "You should probably TRAIN this model on a down-stream task to be able to use it for predictions and inference.\n"
     ]
    }
   ],
   "source": [
    "from transformers import pipeline\n",
    "asr = pipeline(task=\"automatic-speech-recognition\", model=\"microsoft/speecht5_asr\")"
   ]
  },
  {
   "cell_type": "code",
   "execution_count": 14,
   "id": "c3a6500b",
   "metadata": {},
   "outputs": [],
   "source": [
    "# get back a text transcription from the sound\n",
    "asr_result = asr(input_sound)"
   ]
  },
  {
   "cell_type": "code",
   "execution_count": 15,
   "id": "d9058ab2",
   "metadata": {},
   "outputs": [
    {
     "data": {
      "text/plain": [
       "{'text': \"well i don't wish to see it any more observed febric turning away her eyes it is certainly very like the old portrait\"}"
      ]
     },
     "execution_count": 15,
     "metadata": {},
     "output_type": "execute_result"
    }
   ],
   "source": [
    "# it's dictionary with a single field called 'text'\n",
    "asr_result"
   ]
  },
  {
   "cell_type": "code",
   "execution_count": 16,
   "id": "74e93b1e",
   "metadata": {},
   "outputs": [],
   "source": [
    "text = asr_result['text']"
   ]
  },
  {
   "cell_type": "code",
   "execution_count": 17,
   "id": "210ff009",
   "metadata": {},
   "outputs": [],
   "source": [
    "from transformers import SpeechT5Processor, SpeechT5ForTextToSpeech\n",
    "\n",
    "# the text-to-speech model has two parts: a tokenizer/processor which turns the character stream into \n",
    "# a matrix of token IDs and an actual speech synthesizer\n",
    "tts_processor = SpeechT5Processor.from_pretrained(\"microsoft/speecht5_tts\")\n",
    "tts_model = SpeechT5ForTextToSpeech.from_pretrained(\"microsoft/speecht5_tts\")\n"
   ]
  },
  {
   "cell_type": "code",
   "execution_count": 18,
   "id": "8e484c88",
   "metadata": {},
   "outputs": [
    {
     "data": {
      "text/plain": [
       "{'input_ids': tensor([[ 4, 20,  5, 15, 15,  4, 10,  4, 14,  8,  9, 31,  6,  4, 20, 10, 12, 11,\n",
       "          4,  6,  8,  4, 12,  5,  5,  4, 10,  6,  4,  7,  9, 22,  4, 18,  8, 13,\n",
       "          5,  4,  8, 25, 12,  5, 13, 27,  5, 14,  4, 19,  5, 25, 13, 10, 17,  4,\n",
       "          6, 16, 13,  9, 10,  9, 21,  4,  7, 20,  7, 22,  4, 11,  5, 13,  4,  5,\n",
       "         22,  5, 12,  4, 10,  6,  4, 10, 12,  4, 17,  5, 13,  6,  7, 10,  9, 15,\n",
       "         22,  4, 27,  5, 13, 22,  4, 15, 10, 28,  5,  4,  6, 11,  5,  4,  8, 15,\n",
       "         14,  4, 24,  8, 13,  6, 13,  7, 10,  6,  2]]), 'attention_mask': tensor([[1, 1, 1, 1, 1, 1, 1, 1, 1, 1, 1, 1, 1, 1, 1, 1, 1, 1, 1, 1, 1, 1, 1, 1,\n",
       "         1, 1, 1, 1, 1, 1, 1, 1, 1, 1, 1, 1, 1, 1, 1, 1, 1, 1, 1, 1, 1, 1, 1, 1,\n",
       "         1, 1, 1, 1, 1, 1, 1, 1, 1, 1, 1, 1, 1, 1, 1, 1, 1, 1, 1, 1, 1, 1, 1, 1,\n",
       "         1, 1, 1, 1, 1, 1, 1, 1, 1, 1, 1, 1, 1, 1, 1, 1, 1, 1, 1, 1, 1, 1, 1, 1,\n",
       "         1, 1, 1, 1, 1, 1, 1, 1, 1, 1, 1, 1, 1, 1, 1, 1, 1, 1, 1, 1, 1, 1, 1]])}"
      ]
     },
     "execution_count": 18,
     "metadata": {},
     "output_type": "execute_result"
    }
   ],
   "source": [
    "# run the processor to get back an array of token IDs\n",
    "tts_inputs = tts_processor(text=text, return_tensors=\"pt\");\n",
    "tts_inputs"
   ]
  },
  {
   "cell_type": "code",
   "execution_count": 20,
   "id": "273b161d",
   "metadata": {},
   "outputs": [],
   "source": [
    "tts_input_token_ids = tts_inputs['input_ids']"
   ]
  },
  {
   "cell_type": "code",
   "execution_count": 22,
   "id": "a4a9b4c7",
   "metadata": {},
   "outputs": [
    {
     "name": "stderr",
     "output_type": "stream",
     "text": [
      "Found cached dataset cmu-arctic-xvectors (/Users/iskander/.cache/huggingface/datasets/Matthijs___cmu-arctic-xvectors/default/0.0.1/a62fea1f9415e240301ea0042ffad2a3aadf4d1caa7f9a8d9512d631723e781f)\n"
     ]
    },
    {
     "data": {
      "text/plain": [
       "tensor([[-7.5731e-02, -2.7370e-02,  1.4933e-02,  4.5861e-02,  8.3840e-03,\n",
       "         -2.7535e-02, -5.1030e-02, -6.1435e-02,  1.4576e-02,  1.9632e-02,\n",
       "         -7.7323e-02, -7.8355e-02,  5.8233e-02,  3.7577e-02,  1.4377e-02,\n",
       "          1.7147e-02, -1.3966e-02,  1.3549e-03,  9.4501e-03,  9.6230e-03,\n",
       "          3.8752e-02,  2.5284e-03, -1.5207e-02, -4.5730e-02, -7.0040e-02,\n",
       "         -8.4035e-03, -5.4758e-02,  4.7528e-03,  5.4306e-02,  1.8867e-02,\n",
       "         -2.7039e-03,  2.1273e-02,  3.8547e-02, -4.7406e-02,  1.2328e-02,\n",
       "         -6.9829e-02,  2.7079e-02,  5.5035e-02, -6.0107e-02, -6.4483e-02,\n",
       "          6.6905e-03, -5.0482e-02,  4.0781e-02,  3.7543e-03,  3.2528e-02,\n",
       "         -1.2350e-01, -1.8370e-02,  1.1340e-02, -5.8363e-02,  4.8635e-02,\n",
       "          1.9366e-02,  3.4130e-02,  2.4126e-02,  1.6346e-02, -8.6061e-02,\n",
       "          2.4379e-03,  1.1567e-02,  3.0723e-02,  3.2634e-02,  1.7792e-02,\n",
       "          3.7105e-02, -1.0155e-02, -1.4131e-02,  4.0054e-02,  2.5886e-03,\n",
       "          2.7985e-02,  1.8849e-02, -3.4497e-02, -6.4935e-02, -6.7838e-02,\n",
       "          1.6550e-02,  1.0723e-02, -5.7267e-02,  1.6395e-02,  2.6811e-02,\n",
       "          1.1489e-02,  2.2631e-04,  3.3649e-02, -4.3076e-02, -1.0138e-01,\n",
       "         -3.2313e-02, -3.9939e-02, -4.8604e-02, -7.3076e-02, -3.2598e-02,\n",
       "         -5.5016e-02, -8.0497e-02,  2.1404e-02,  1.2595e-02,  8.1013e-02,\n",
       "          2.8438e-02, -9.1571e-02,  2.6646e-02, -5.6353e-02,  3.2727e-02,\n",
       "         -6.1148e-03,  2.7991e-02,  2.6409e-02, -5.6170e-02, -7.6057e-02,\n",
       "          3.3457e-02, -2.2366e-02, -6.4855e-02,  2.4247e-02,  2.9651e-02,\n",
       "         -6.8479e-02,  2.7550e-02,  3.8546e-02,  2.3242e-02,  1.2493e-02,\n",
       "         -7.7477e-02,  5.7438e-02,  6.9855e-02,  7.3926e-03,  3.0671e-02,\n",
       "          6.4227e-02, -6.5348e-02, -2.0353e-02, -7.7277e-02, -2.4609e-02,\n",
       "          8.1601e-03, -7.8592e-02,  2.7010e-02,  9.2486e-03, -6.1651e-02,\n",
       "          3.7681e-02, -1.0725e-01,  1.1313e-02,  3.1405e-02,  2.7854e-02,\n",
       "         -4.8992e-03,  2.5332e-02,  9.7699e-03,  5.1193e-02,  1.5345e-02,\n",
       "         -9.4362e-02, -5.6592e-02, -8.8629e-03, -7.1800e-02, -6.0420e-02,\n",
       "          4.4344e-02,  5.5215e-03, -3.5413e-02,  3.9511e-02, -6.7250e-02,\n",
       "          4.5436e-02,  1.6532e-02, -3.8523e-02,  4.5966e-02, -7.9121e-02,\n",
       "          5.2795e-02, -3.1010e-02, -6.3569e-02,  4.1343e-02,  3.5959e-02,\n",
       "          1.1169e-02,  1.6097e-02, -6.2336e-02, -7.2390e-02,  3.0439e-02,\n",
       "          3.6406e-02, -1.8986e-02,  2.1501e-02, -7.7191e-02,  1.6157e-02,\n",
       "          1.1470e-02,  4.5957e-02,  3.3363e-02,  2.3475e-02,  3.0637e-02,\n",
       "          3.1186e-02, -6.5670e-02,  4.1199e-02, -3.9888e-02, -2.1472e-02,\n",
       "          3.0891e-03, -4.2949e-02,  3.0467e-02,  1.6949e-02, -5.1466e-02,\n",
       "          2.5883e-02, -5.3718e-02,  3.5316e-03,  4.0631e-02, -5.4173e-02,\n",
       "         -8.6686e-03,  3.5498e-02,  3.0202e-02, -4.0061e-02, -6.6584e-02,\n",
       "          1.5401e-02,  2.1390e-02, -5.5715e-02,  4.6001e-02,  1.8156e-02,\n",
       "          3.0570e-02,  1.1719e-02, -9.9191e-03,  5.2008e-02, -1.6743e-02,\n",
       "          3.6873e-02,  1.7945e-02, -5.2712e-02,  5.1492e-03,  3.1717e-02,\n",
       "          1.6345e-02,  2.8038e-02, -9.1193e-03,  4.7984e-02, -8.1365e-02,\n",
       "          2.2815e-03, -3.7835e-02, -5.1607e-02,  5.4826e-02, -5.5837e-02,\n",
       "          2.9429e-02,  4.3061e-02, -7.3889e-02,  2.4673e-02,  4.0498e-02,\n",
       "         -6.3633e-02,  2.6250e-02, -7.6712e-02, -3.9236e-02,  4.1200e-02,\n",
       "          5.9500e-02,  3.3125e-02,  8.4764e-02,  2.6894e-02,  2.1208e-02,\n",
       "         -1.9036e-02,  3.6105e-02,  1.1080e-02, -3.6135e-02,  1.6011e-02,\n",
       "         -1.8170e-02,  2.1346e-02,  1.3552e-02, -1.8920e-03,  8.3177e-02,\n",
       "         -4.1955e-02,  2.7798e-02, -8.2717e-02,  3.2804e-02, -7.2306e-02,\n",
       "          4.3091e-02,  2.3945e-02,  2.4701e-02,  1.3977e-02,  5.6885e-02,\n",
       "          1.7945e-02,  2.8972e-02,  8.6228e-03, -5.6302e-02, -1.4323e-02,\n",
       "          2.9686e-02,  5.8318e-03,  3.8803e-02, -4.1574e-02,  4.0746e-02,\n",
       "          3.1213e-02, -8.4970e-02, -2.3686e-03,  3.6791e-02,  1.2361e-03,\n",
       "          4.5098e-02,  5.6538e-03,  2.8413e-02,  1.0165e-02, -5.3070e-02,\n",
       "          2.1911e-02, -1.1162e-02,  3.8611e-02, -3.0208e-02, -5.9430e-02,\n",
       "          3.6008e-02,  1.1929e-02,  3.1447e-02, -1.0400e-01, -6.1293e-02,\n",
       "         -8.0308e-03,  4.2027e-02,  3.0025e-02, -7.4196e-02, -5.2481e-02,\n",
       "          5.1548e-02,  1.8361e-02,  6.1537e-02, -8.1845e-02,  4.4316e-03,\n",
       "          6.7739e-03, -9.4557e-03, -5.6989e-02,  2.4892e-02, -3.0561e-02,\n",
       "          2.5083e-02,  1.9040e-02,  4.1483e-02,  5.1471e-02,  3.7162e-02,\n",
       "          5.9241e-02,  1.8279e-02,  1.9296e-02, -6.7110e-02,  2.0166e-03,\n",
       "          4.8967e-02,  5.0391e-02,  1.3446e-02,  1.8206e-02, -8.5504e-03,\n",
       "          1.1178e-02,  2.0903e-02, -4.1387e-02,  5.5261e-02, -9.4853e-02,\n",
       "         -4.2134e-02, -2.7247e-02,  2.9106e-02, -6.6454e-02,  6.7363e-02,\n",
       "         -3.8123e-02,  2.7640e-02, -3.7964e-02,  1.0054e-02,  5.8676e-02,\n",
       "         -7.0155e-02,  4.6831e-02,  7.9704e-02, -1.0691e-01, -8.5176e-02,\n",
       "         -5.0247e-02,  4.3429e-02,  7.7549e-05,  3.5321e-02, -8.3261e-02,\n",
       "          3.6600e-02,  3.6176e-02, -4.2300e-02, -1.0296e-02, -5.7964e-02,\n",
       "          3.0171e-02, -6.0402e-02,  2.4129e-02, -9.7594e-03, -7.0489e-02,\n",
       "         -5.9752e-03,  1.0908e-02,  3.8074e-02, -2.1607e-02, -6.5632e-02,\n",
       "         -5.6591e-02, -3.7202e-02, -3.5643e-02,  1.1503e-01,  4.8548e-02,\n",
       "         -4.4165e-02, -8.4903e-03,  5.2511e-02, -6.6306e-02, -3.7650e-03,\n",
       "         -9.6806e-02,  6.3695e-03, -4.7472e-03,  8.2472e-03,  3.9955e-02,\n",
       "         -1.8661e-02, -5.2143e-02,  1.0988e-02,  1.8065e-02,  4.5972e-02,\n",
       "          1.2286e-02,  7.0595e-02, -8.4777e-02, -1.4104e-02, -1.3229e-02,\n",
       "         -2.5280e-03,  3.9428e-02,  8.6427e-03,  5.7508e-02,  2.3728e-02,\n",
       "         -6.6087e-02, -1.1664e-01,  2.2290e-02,  5.0236e-02,  2.4568e-02,\n",
       "         -6.6172e-02,  2.6201e-02, -5.5484e-02,  4.6974e-02,  3.0781e-02,\n",
       "          2.4634e-02,  3.1654e-04, -4.1335e-02,  2.2777e-02,  4.0515e-02,\n",
       "         -1.4501e-03,  3.3753e-02, -6.3499e-02, -2.4656e-02, -1.9639e-02,\n",
       "         -1.4018e-02, -6.5658e-02,  4.1642e-03, -3.2586e-02,  1.7866e-02,\n",
       "          7.4335e-03,  6.4375e-04, -5.8995e-02, -6.5919e-02, -8.0942e-02,\n",
       "         -3.7122e-02,  2.8975e-02,  6.9335e-04, -1.5037e-02,  1.6579e-02,\n",
       "         -6.5062e-02,  1.9240e-02, -8.5884e-02, -1.2970e-01, -2.1583e-02,\n",
       "         -4.2093e-02,  9.9256e-03,  2.9919e-02, -5.6503e-02, -5.9666e-02,\n",
       "          3.0643e-02,  6.5749e-02,  5.1784e-02,  3.0791e-02, -3.2522e-02,\n",
       "         -4.9952e-02, -1.8215e-02, -2.5078e-02,  3.5772e-02,  4.6380e-02,\n",
       "          4.1542e-03,  3.4328e-02, -7.7166e-03, -8.1652e-02, -6.3338e-02,\n",
       "          1.9106e-02, -2.6073e-04,  3.7431e-02,  5.0535e-03,  2.1157e-02,\n",
       "          2.8372e-02,  3.9707e-02,  1.0605e-02,  3.4675e-03, -1.4806e-02,\n",
       "          3.8775e-02,  2.4118e-02,  6.7608e-02,  4.9226e-02,  1.0720e-02,\n",
       "          1.3325e-02,  2.7272e-02, -6.4426e-02, -5.2507e-02,  3.4602e-02,\n",
       "         -1.4481e-02,  2.2297e-02,  3.4668e-02,  3.1350e-02, -5.9222e-02,\n",
       "          5.2553e-02,  4.2786e-02, -5.9978e-02,  2.3348e-02,  2.5155e-02,\n",
       "         -2.1993e-03,  3.6892e-02,  2.5243e-02,  4.0611e-03, -5.3466e-03,\n",
       "         -7.2841e-02,  1.3622e-04, -5.5694e-03,  3.9565e-02,  2.9341e-02,\n",
       "         -6.4077e-02, -5.2649e-02, -1.3348e-02,  2.1251e-02,  2.4448e-02,\n",
       "          3.3583e-02, -6.7184e-02,  2.9360e-02, -5.0579e-03, -1.2123e-02,\n",
       "         -4.8513e-02,  2.4554e-02, -5.2060e-02,  2.0694e-02, -3.5575e-02,\n",
       "          1.4269e-02, -4.6220e-02,  3.6354e-02, -8.2248e-02, -6.0916e-02,\n",
       "          1.0230e-02,  3.5427e-02, -6.8191e-02,  2.3711e-02, -3.5071e-02,\n",
       "         -1.2789e-02, -8.0640e-02,  3.7140e-02,  8.2634e-02,  2.2695e-02,\n",
       "          4.4507e-02, -5.3924e-02]])"
      ]
     },
     "execution_count": 22,
     "metadata": {},
     "output_type": "execute_result"
    }
   ],
   "source": [
    "import torch\n",
    "from datasets import load_dataset\n",
    "\n",
    "# load vector describing speaker voice\n",
    "speaker_embeddings_dataset = load_dataset(\"Matthijs/cmu-arctic-xvectors\", split=\"validation\")\n",
    "speaker_embeddings = torch.tensor(speaker_embeddings_dataset[7306][\"xvector\"]).unsqueeze(0)\n",
    "speaker_embeddings"
   ]
  },
  {
   "cell_type": "code",
   "execution_count": 46,
   "id": "2254cd12",
   "metadata": {},
   "outputs": [],
   "source": [
    "from transformers import SpeechT5HifiGan\n",
    "\n",
    "# get a vocoder model to generate final sound\n",
    "vocoder = SpeechT5HifiGan.from_pretrained(\"microsoft/speecht5_hifigan\")"
   ]
  },
  {
   "cell_type": "code",
   "execution_count": 50,
   "id": "2e2b47d8",
   "metadata": {},
   "outputs": [],
   "source": [
    "# combine the TTS model, a speaker embedding, and vocoder to actually generate sounds for the \n",
    "# text token IDs\n",
    "output_speech = tts_model.generate_speech(tts_input_token_ids, speaker_embeddings, vocoder=vocoder)"
   ]
  },
  {
   "cell_type": "code",
   "execution_count": 33,
   "id": "670df07a",
   "metadata": {},
   "outputs": [
    {
     "data": {
      "text/plain": [
       "(tensor([ 3.6646e-05,  8.9237e-05,  4.7538e-05,  ..., -1.4577e-03,\n",
       "         -1.8693e-03, -2.8707e-03]),\n",
       " torch.Size([118272]))"
      ]
     },
     "execution_count": 33,
     "metadata": {},
     "output_type": "execute_result"
    }
   ],
   "source": [
    "output_speech, output_speech.shape"
   ]
  },
  {
   "cell_type": "code",
   "execution_count": 34,
   "id": "1d2e99d7",
   "metadata": {},
   "outputs": [],
   "source": [
    "# save the sound file \n",
    "import soundfile as sf\n",
    "sf.write(\"round-trip-output.wav\", output_speech.numpy(), samplerate=16000)"
   ]
  },
  {
   "cell_type": "code",
   "execution_count": 35,
   "id": "24724e87",
   "metadata": {},
   "outputs": [],
   "source": [
    "import simpleaudio \n",
    "import numpy as np\n",
    "\n",
    "def normalize_waveform(single_channel_float_waveform, min_int=-32768, max_int=32767, output_dtype=np.int16):\n",
    "    # simpleaudio expects 16-bit integer values for wave height\n",
    "    # so normalize float sound arrays to fit that range\n",
    "    int_range = max_int - min_int\n",
    "    normalized_waveform = single_channel_float_waveform - single_channel_float_waveform.min()\n",
    "    normalized_waveform /= normalized_waveform.max()\n",
    "    int64_waveform_from_0 = (normalized_waveform * int_range).astype(np.int64)\n",
    "    int64_waveform_from_min = int64_waveform_from_0 + min_int\n",
    "    return int64_waveform_from_min.astype(output_dtype)\n",
    "    \n",
    "def play(single_channel_float_waveform, num_channels=1, bytes_per_sample=2, sampling_rate=16000):\n",
    "    int_waveform = normalize_waveform(single_channel_float_waveform)\n",
    "    play_obj = simpleaudio.play_buffer(int_waveform, num_channels, bytes_per_sample, sampling_rate)\n",
    "    # wait for play-back to finish\n",
    "    play_obj.wait_done()"
   ]
  },
  {
   "cell_type": "code",
   "execution_count": 36,
   "id": "e0c6ba80",
   "metadata": {},
   "outputs": [],
   "source": [
    "play(input_sound, sampling_rate=sampling_rate)"
   ]
  },
  {
   "cell_type": "code",
   "execution_count": 51,
   "id": "488e7ce4",
   "metadata": {},
   "outputs": [],
   "source": [
    "play(output_speech.numpy())"
   ]
  },
  {
   "cell_type": "code",
   "execution_count": null,
   "id": "cb9d18aa",
   "metadata": {},
   "outputs": [],
   "source": []
  }
 ],
 "metadata": {
  "kernelspec": {
   "display_name": "Python 3 (ipykernel)",
   "language": "python",
   "name": "python3"
  },
  "language_info": {
   "codemirror_mode": {
    "name": "ipython",
    "version": 3
   },
   "file_extension": ".py",
   "mimetype": "text/x-python",
   "name": "python",
   "nbconvert_exporter": "python",
   "pygments_lexer": "ipython3",
   "version": "3.10.10"
  }
 },
 "nbformat": 4,
 "nbformat_minor": 5
}
