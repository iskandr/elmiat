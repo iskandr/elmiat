{
 "cells": [
  {
   "cell_type": "markdown",
   "id": "1e08a616",
   "metadata": {},
   "source": [
    "Following HuggingFace SpeechT5 tutorial to combine ASR and TTS (https://huggingface.co/blog/speecht5)\n"
   ]
  },
  {
   "cell_type": "code",
   "execution_count": 38,
   "id": "13f0e2f9",
   "metadata": {},
   "outputs": [],
   "source": [
    "!pip install -q sentencepiece\n",
    "!pip install -q torchaudio \n",
    "!pip install -q transformers\n",
    "!pip install -q soundfile\n",
    "\n",
    "# there's probably a better library for playing audio \n",
    "!pip install -q simpleaudio "
   ]
  },
  {
   "cell_type": "code",
   "execution_count": 4,
   "id": "429a8468",
   "metadata": {},
   "outputs": [
    {
     "name": "stdout",
     "output_type": "stream",
     "text": [
      "2086-149220-0033.wav\r\n"
     ]
    }
   ],
   "source": [
    "!ls ../data"
   ]
  },
  {
   "cell_type": "code",
   "execution_count": 8,
   "id": "d65e9192",
   "metadata": {},
   "outputs": [],
   "source": [
    "import soundfile as sf\n",
    "\n",
    "input_sound = sf.read(\"../data/2086-149220-0033.wav\")"
   ]
  },
  {
   "cell_type": "code",
   "execution_count": 9,
   "id": "6eee887f",
   "metadata": {},
   "outputs": [
    {
     "data": {
      "text/plain": [
       "(array([0.00000000e+00, 9.15527344e-05, 9.15527344e-05, ...,\n",
       "        1.22070312e-04, 1.22070312e-04, 1.22070312e-04]),\n",
       " 16000)"
      ]
     },
     "execution_count": 9,
     "metadata": {},
     "output_type": "execute_result"
    }
   ],
   "source": [
    "input_sound "
   ]
  },
  {
   "cell_type": "code",
   "execution_count": 11,
   "id": "622f4afd",
   "metadata": {},
   "outputs": [],
   "source": [
    "from transformers import pipeline\n",
    "asr = pipeline(task=\"automatic-speech-recognition\", model=\"microsoft/speecht5_asr\")"
   ]
  },
  {
   "cell_type": "code",
   "execution_count": 13,
   "id": "79ea3361",
   "metadata": {},
   "outputs": [
    {
     "name": "stderr",
     "output_type": "stream",
     "text": [
      "/Users/iskander/miniconda3/lib/python3.10/site-packages/transformers/generation/utils.py:1349: UserWarning: Using `max_length`'s default (450) to control the generation length. This behaviour is deprecated and will be removed from the config in v5 of Transformers -- we recommend using `max_new_tokens` to control the maximum length of the generation.\n",
      "  warnings.warn(\n"
     ]
    }
   ],
   "source": [
    "text = asr(input_sound[0])"
   ]
  },
  {
   "cell_type": "code",
   "execution_count": 16,
   "id": "05b58544",
   "metadata": {},
   "outputs": [
    {
     "data": {
      "text/plain": [
       "{'text': \"well i don't wish to see it any more observed febric turning away her eyes it is certainly very like the old portrait\"}"
      ]
     },
     "execution_count": 16,
     "metadata": {},
     "output_type": "execute_result"
    }
   ],
   "source": [
    "text"
   ]
  },
  {
   "cell_type": "code",
   "execution_count": 18,
   "id": "12227074",
   "metadata": {},
   "outputs": [
    {
     "data": {
      "text/plain": [
       "{'input_ids': tensor([[ 4, 20,  5, 15, 15,  4, 10,  4, 14,  8,  9, 31,  6,  4, 20, 10, 12, 11,\n",
       "          4,  6,  8,  4, 12,  5,  5,  4, 10,  6,  4,  7,  9, 22,  4, 18,  8, 13,\n",
       "          5,  4,  8, 25, 12,  5, 13, 27,  5, 14,  4, 19,  5, 25, 13, 10, 17,  4,\n",
       "          6, 16, 13,  9, 10,  9, 21,  4,  7, 20,  7, 22,  4, 11,  5, 13,  4,  5,\n",
       "         22,  5, 12,  4, 10,  6,  4, 10, 12,  4, 17,  5, 13,  6,  7, 10,  9, 15,\n",
       "         22,  4, 27,  5, 13, 22,  4, 15, 10, 28,  5,  4,  6, 11,  5,  4,  8, 15,\n",
       "         14,  4, 24,  8, 13,  6, 13,  7, 10,  6,  2]]), 'attention_mask': tensor([[1, 1, 1, 1, 1, 1, 1, 1, 1, 1, 1, 1, 1, 1, 1, 1, 1, 1, 1, 1, 1, 1, 1, 1,\n",
       "         1, 1, 1, 1, 1, 1, 1, 1, 1, 1, 1, 1, 1, 1, 1, 1, 1, 1, 1, 1, 1, 1, 1, 1,\n",
       "         1, 1, 1, 1, 1, 1, 1, 1, 1, 1, 1, 1, 1, 1, 1, 1, 1, 1, 1, 1, 1, 1, 1, 1,\n",
       "         1, 1, 1, 1, 1, 1, 1, 1, 1, 1, 1, 1, 1, 1, 1, 1, 1, 1, 1, 1, 1, 1, 1, 1,\n",
       "         1, 1, 1, 1, 1, 1, 1, 1, 1, 1, 1, 1, 1, 1, 1, 1, 1, 1, 1, 1, 1, 1, 1]])}"
      ]
     },
     "execution_count": 18,
     "metadata": {},
     "output_type": "execute_result"
    }
   ],
   "source": [
    "from transformers import SpeechT5Processor, SpeechT5ForTextToSpeech\n",
    "\n",
    "tts_processor = SpeechT5Processor.from_pretrained(\"microsoft/speecht5_tts\")\n",
    "tts_model = SpeechT5ForTextToSpeech.from_pretrained(\"microsoft/speecht5_tts\")\n",
    "\n",
    "tts_inputs = tts_processor(text=text['text'], return_tensors=\"pt\");\n",
    "tts_inputs"
   ]
  },
  {
   "cell_type": "code",
   "execution_count": 20,
   "id": "b78b14b3",
   "metadata": {},
   "outputs": [
    {
     "name": "stderr",
     "output_type": "stream",
     "text": [
      "Found cached dataset cmu-arctic-xvectors (/Users/iskander/.cache/huggingface/datasets/Matthijs___cmu-arctic-xvectors/default/0.0.1/a62fea1f9415e240301ea0042ffad2a3aadf4d1caa7f9a8d9512d631723e781f)\n"
     ]
    }
   ],
   "source": [
    "import torch\n",
    "from transformers import SpeechT5HifiGan\n",
    "from datasets import load_dataset\n",
    "\n",
    "# load vector describing speaker voice\n",
    "speaker_embeddings_dataset = load_dataset(\"Matthijs/cmu-arctic-xvectors\", split=\"validation\")\n",
    "speaker_embeddings = torch.tensor(speaker_embeddings_dataset[7306][\"xvector\"]).unsqueeze(0)\n",
    "\n",
    "# get a vocoder model to generate final sound\n",
    "vocoder = SpeechT5HifiGan.from_pretrained(\"microsoft/speecht5_hifigan\")\n",
    "output_speech = tts_model.generate_speech(tts_inputs[\"input_ids\"], speaker_embeddings, vocoder=vocoder)"
   ]
  },
  {
   "cell_type": "code",
   "execution_count": 21,
   "id": "53a73eac",
   "metadata": {},
   "outputs": [],
   "source": [
    "import soundfile as sf\n",
    "sf.write(\"round-trip-output.wav\", output_speech.numpy(), samplerate=16000)"
   ]
  },
  {
   "cell_type": "code",
   "execution_count": 37,
   "id": "dc32f8f1",
   "metadata": {},
   "outputs": [
    {
     "name": "stdout",
     "output_type": "stream",
     "text": [
      "Collecting simpleaudio\n",
      "  Downloading simpleaudio-1.0.4.tar.gz (2.0 MB)\n",
      "\u001b[2K     \u001b[38;2;114;156;31m━━━━━━━━━━━━━━━━━━━━━━━━━━━━━━━━━━━━━━━━\u001b[0m \u001b[32m2.0/2.0 MB\u001b[0m \u001b[31m12.0 MB/s\u001b[0m eta \u001b[36m0:00:00\u001b[0mm eta \u001b[36m0:00:01\u001b[0m0:01\u001b[0m\n",
      "\u001b[?25h  Preparing metadata (setup.py) ... \u001b[?25ldone\n",
      "\u001b[?25hBuilding wheels for collected packages: simpleaudio\n",
      "  Building wheel for simpleaudio (setup.py) ... \u001b[?25lerror\n",
      "  \u001b[1;31merror\u001b[0m: \u001b[1msubprocess-exited-with-error\u001b[0m\n",
      "  \n",
      "  \u001b[31m×\u001b[0m \u001b[32mpython setup.py bdist_wheel\u001b[0m did not run successfully.\n",
      "  \u001b[31m│\u001b[0m exit code: \u001b[1;36m1\u001b[0m\n",
      "  \u001b[31m╰─>\u001b[0m \u001b[31m[85 lines of output]\u001b[0m\n",
      "  \u001b[31m   \u001b[0m running bdist_wheel\n",
      "  \u001b[31m   \u001b[0m running build\n",
      "  \u001b[31m   \u001b[0m running build_py\n",
      "  \u001b[31m   \u001b[0m creating build\n",
      "  \u001b[31m   \u001b[0m creating build/lib.macosx-11.1-arm64-cpython-310\n",
      "  \u001b[31m   \u001b[0m creating build/lib.macosx-11.1-arm64-cpython-310/simpleaudio\n",
      "  \u001b[31m   \u001b[0m copying simpleaudio/__init__.py -> build/lib.macosx-11.1-arm64-cpython-310/simpleaudio\n",
      "  \u001b[31m   \u001b[0m copying simpleaudio/shiny.py -> build/lib.macosx-11.1-arm64-cpython-310/simpleaudio\n",
      "  \u001b[31m   \u001b[0m copying simpleaudio/functionchecks.py -> build/lib.macosx-11.1-arm64-cpython-310/simpleaudio\n",
      "  \u001b[31m   \u001b[0m creating build/lib.macosx-11.1-arm64-cpython-310/simpleaudio/test_audio\n",
      "  \u001b[31m   \u001b[0m copying simpleaudio/test_audio/c.wav -> build/lib.macosx-11.1-arm64-cpython-310/simpleaudio/test_audio\n",
      "  \u001b[31m   \u001b[0m copying simpleaudio/test_audio/e.wav -> build/lib.macosx-11.1-arm64-cpython-310/simpleaudio/test_audio\n",
      "  \u001b[31m   \u001b[0m copying simpleaudio/test_audio/g.wav -> build/lib.macosx-11.1-arm64-cpython-310/simpleaudio/test_audio\n",
      "  \u001b[31m   \u001b[0m copying simpleaudio/test_audio/left_right.wav -> build/lib.macosx-11.1-arm64-cpython-310/simpleaudio/test_audio\n",
      "  \u001b[31m   \u001b[0m copying simpleaudio/test_audio/notes_2_16_44.wav -> build/lib.macosx-11.1-arm64-cpython-310/simpleaudio/test_audio\n",
      "  \u001b[31m   \u001b[0m running build_ext\n",
      "  \u001b[31m   \u001b[0m building 'simpleaudio._simpleaudio' extension\n",
      "  \u001b[31m   \u001b[0m creating build/temp.macosx-11.1-arm64-cpython-310\n",
      "  \u001b[31m   \u001b[0m creating build/temp.macosx-11.1-arm64-cpython-310/c_src\n",
      "  \u001b[31m   \u001b[0m arm64-apple-darwin20.0.0-clang -Wno-unused-result -Wsign-compare -Wunreachable-code -DNDEBUG -fwrapv -O2 -Wall -fPIC -O2 -isystem /Users/iskander/miniconda3/include -arch arm64 -fPIC -O2 -isystem /Users/iskander/miniconda3/include -arch arm64 -ftree-vectorize -fPIC -fPIE -fstack-protector-strong -O2 -pipe -isystem /Users/iskander/miniconda3/include -D_FORTIFY_SOURCE=2 -isystem /Users/iskander/miniconda3/include -DDEBUG=0 -I/Users/iskander/miniconda3/include/python3.10 -c c_src/posix_mutex.c -o build/temp.macosx-11.1-arm64-cpython-310/c_src/posix_mutex.o -mmacosx-version-min=10.6\n",
      "  \u001b[31m   \u001b[0m arm64-apple-darwin20.0.0-clang -Wno-unused-result -Wsign-compare -Wunreachable-code -DNDEBUG -fwrapv -O2 -Wall -fPIC -O2 -isystem /Users/iskander/miniconda3/include -arch arm64 -fPIC -O2 -isystem /Users/iskander/miniconda3/include -arch arm64 -ftree-vectorize -fPIC -fPIE -fstack-protector-strong -O2 -pipe -isystem /Users/iskander/miniconda3/include -D_FORTIFY_SOURCE=2 -isystem /Users/iskander/miniconda3/include -DDEBUG=0 -I/Users/iskander/miniconda3/include/python3.10 -c c_src/simpleaudio.c -o build/temp.macosx-11.1-arm64-cpython-310/c_src/simpleaudio.o -mmacosx-version-min=10.6\n",
      "  \u001b[31m   \u001b[0m c_src/simpleaudio.c:164:5: warning: 'PyEval_InitThreads' is deprecated [-Wdeprecated-declarations]\n",
      "  \u001b[31m   \u001b[0m     PyEval_InitThreads();\n",
      "  \u001b[31m   \u001b[0m     ^\n",
      "  \u001b[31m   \u001b[0m /Users/iskander/miniconda3/include/python3.10/ceval.h:122:1: note: 'PyEval_InitThreads' has been explicitly marked deprecated here\n",
      "  \u001b[31m   \u001b[0m Py_DEPRECATED(3.9) PyAPI_FUNC(void) PyEval_InitThreads(void);\n",
      "  \u001b[31m   \u001b[0m ^\n",
      "  \u001b[31m   \u001b[0m /Users/iskander/miniconda3/include/python3.10/pyport.h:513:54: note: expanded from macro 'Py_DEPRECATED'\n",
      "  \u001b[31m   \u001b[0m #define Py_DEPRECATED(VERSION_UNUSED) __attribute__((__deprecated__))\n",
      "  \u001b[31m   \u001b[0m                                                      ^\n",
      "  \u001b[31m   \u001b[0m 1 warning generated.\n",
      "  \u001b[31m   \u001b[0m arm64-apple-darwin20.0.0-clang -Wno-unused-result -Wsign-compare -Wunreachable-code -DNDEBUG -fwrapv -O2 -Wall -fPIC -O2 -isystem /Users/iskander/miniconda3/include -arch arm64 -fPIC -O2 -isystem /Users/iskander/miniconda3/include -arch arm64 -ftree-vectorize -fPIC -fPIE -fstack-protector-strong -O2 -pipe -isystem /Users/iskander/miniconda3/include -D_FORTIFY_SOURCE=2 -isystem /Users/iskander/miniconda3/include -DDEBUG=0 -I/Users/iskander/miniconda3/include/python3.10 -c c_src/simpleaudio_mac.c -o build/temp.macosx-11.1-arm64-cpython-310/c_src/simpleaudio_mac.o -mmacosx-version-min=10.6\n",
      "  \u001b[31m   \u001b[0m arm64-apple-darwin20.0.0-clang -bundle -undefined dynamic_lookup -Wl,-rpath,/Users/iskander/miniconda3/lib -L/Users/iskander/miniconda3/lib -Wl,-rpath,/Users/iskander/miniconda3/lib -L/Users/iskander/miniconda3/lib -Wl,-pie -Wl,-headerpad_max_install_names -Wl,-dead_strip_dylibs -Wl,-rpath,/Users/iskander/miniconda3/lib -L/Users/iskander/miniconda3/lib -ftree-vectorize -fPIC -fPIE -fstack-protector-strong -O2 -pipe -isystem /Users/iskander/miniconda3/include -D_FORTIFY_SOURCE=2 -isystem /Users/iskander/miniconda3/include build/temp.macosx-11.1-arm64-cpython-310/c_src/posix_mutex.o build/temp.macosx-11.1-arm64-cpython-310/c_src/simpleaudio.o build/temp.macosx-11.1-arm64-cpython-310/c_src/simpleaudio_mac.o -o build/lib.macosx-11.1-arm64-cpython-310/simpleaudio/_simpleaudio.cpython-310-darwin.so -framework AudioToolbox\n",
      "  \u001b[31m   \u001b[0m ld: warning: -pie being ignored. It is only used when linking a main executable\n",
      "  \u001b[31m   \u001b[0m /Users/iskander/miniconda3/lib/python3.10/site-packages/setuptools/command/install.py:34: SetuptoolsDeprecationWarning: setup.py install is deprecated. Use build and pip and other standards-based tools.\n",
      "  \u001b[31m   \u001b[0m   warnings.warn(\n",
      "  \u001b[31m   \u001b[0m installing to build/bdist.macosx-11.1-arm64/wheel\n",
      "  \u001b[31m   \u001b[0m running install\n",
      "  \u001b[31m   \u001b[0m running install_lib\n",
      "  \u001b[31m   \u001b[0m creating build/bdist.macosx-11.1-arm64\n",
      "  \u001b[31m   \u001b[0m creating build/bdist.macosx-11.1-arm64/wheel\n",
      "  \u001b[31m   \u001b[0m creating build/bdist.macosx-11.1-arm64/wheel/simpleaudio\n",
      "  \u001b[31m   \u001b[0m copying build/lib.macosx-11.1-arm64-cpython-310/simpleaudio/functionchecks.py -> build/bdist.macosx-11.1-arm64/wheel/simpleaudio\n",
      "  \u001b[31m   \u001b[0m copying build/lib.macosx-11.1-arm64-cpython-310/simpleaudio/_simpleaudio.cpython-310-darwin.so -> build/bdist.macosx-11.1-arm64/wheel/simpleaudio\n",
      "  \u001b[31m   \u001b[0m copying build/lib.macosx-11.1-arm64-cpython-310/simpleaudio/__init__.py -> build/bdist.macosx-11.1-arm64/wheel/simpleaudio\n",
      "  \u001b[31m   \u001b[0m creating build/bdist.macosx-11.1-arm64/wheel/simpleaudio/test_audio\n",
      "  \u001b[31m   \u001b[0m copying build/lib.macosx-11.1-arm64-cpython-310/simpleaudio/test_audio/c.wav -> build/bdist.macosx-11.1-arm64/wheel/simpleaudio/test_audio\n",
      "  \u001b[31m   \u001b[0m copying build/lib.macosx-11.1-arm64-cpython-310/simpleaudio/test_audio/g.wav -> build/bdist.macosx-11.1-arm64/wheel/simpleaudio/test_audio\n",
      "  \u001b[31m   \u001b[0m copying build/lib.macosx-11.1-arm64-cpython-310/simpleaudio/test_audio/e.wav -> build/bdist.macosx-11.1-arm64/wheel/simpleaudio/test_audio\n",
      "  \u001b[31m   \u001b[0m copying build/lib.macosx-11.1-arm64-cpython-310/simpleaudio/test_audio/notes_2_16_44.wav -> build/bdist.macosx-11.1-arm64/wheel/simpleaudio/test_audio\n",
      "  \u001b[31m   \u001b[0m copying build/lib.macosx-11.1-arm64-cpython-310/simpleaudio/test_audio/left_right.wav -> build/bdist.macosx-11.1-arm64/wheel/simpleaudio/test_audio\n",
      "  \u001b[31m   \u001b[0m copying build/lib.macosx-11.1-arm64-cpython-310/simpleaudio/shiny.py -> build/bdist.macosx-11.1-arm64/wheel/simpleaudio\n",
      "  \u001b[31m   \u001b[0m running install_egg_info\n",
      "  \u001b[31m   \u001b[0m running egg_info\n",
      "  \u001b[31m   \u001b[0m writing simpleaudio.egg-info/PKG-INFO\n",
      "  \u001b[31m   \u001b[0m writing dependency_links to simpleaudio.egg-info/dependency_links.txt\n",
      "  \u001b[31m   \u001b[0m writing top-level names to simpleaudio.egg-info/top_level.txt\n",
      "  \u001b[31m   \u001b[0m reading manifest file 'simpleaudio.egg-info/SOURCES.txt'\n",
      "  \u001b[31m   \u001b[0m reading manifest template 'MANIFEST.in'\n",
      "  \u001b[31m   \u001b[0m adding license file 'LICENSE.txt'\n",
      "  \u001b[31m   \u001b[0m writing manifest file 'simpleaudio.egg-info/SOURCES.txt'\n",
      "  \u001b[31m   \u001b[0m Copying simpleaudio.egg-info to build/bdist.macosx-11.1-arm64/wheel/simpleaudio-1.0.4-py3.10.egg-info\n",
      "  \u001b[31m   \u001b[0m running install_scripts\n",
      "  \u001b[31m   \u001b[0m Traceback (most recent call last):\n",
      "  \u001b[31m   \u001b[0m   File \"<string>\", line 2, in <module>\n",
      "  \u001b[31m   \u001b[0m   File \"<pip-setuptools-caller>\", line 34, in <module>\n",
      "  \u001b[31m   \u001b[0m   File \"/private/var/folders/qm/qf74v01n2s12j3w0h1yrx4l00000gn/T/pip-install-csrthp5b/simpleaudio_2ff4478fa95c4450b87b135150652e23/setup.py\", line 45, in <module>\n",
      "  \u001b[31m   \u001b[0m     setup(\n",
      "  \u001b[31m   \u001b[0m   File \"/Users/iskander/miniconda3/lib/python3.10/site-packages/setuptools/__init__.py\", line 87, in setup\n",
      "  \u001b[31m   \u001b[0m     return distutils.core.setup(**attrs)\n",
      "  \u001b[31m   \u001b[0m   File \"/Users/iskander/miniconda3/lib/python3.10/site-packages/setuptools/_distutils/core.py\", line 185, in setup\n",
      "  \u001b[31m   \u001b[0m     return run_commands(dist)\n",
      "  \u001b[31m   \u001b[0m   File \"/Users/iskander/miniconda3/lib/python3.10/site-packages/setuptools/_distutils/core.py\", line 201, in run_commands\n",
      "  \u001b[31m   \u001b[0m     dist.run_commands()\n",
      "  \u001b[31m   \u001b[0m   File \"/Users/iskander/miniconda3/lib/python3.10/site-packages/setuptools/_distutils/dist.py\", line 969, in run_commands\n",
      "  \u001b[31m   \u001b[0m     self.run_command(cmd)\n",
      "  \u001b[31m   \u001b[0m   File \"/Users/iskander/miniconda3/lib/python3.10/site-packages/setuptools/dist.py\", line 1208, in run_command\n",
      "  \u001b[31m   \u001b[0m     super().run_command(command)\n",
      "  \u001b[31m   \u001b[0m   File \"/Users/iskander/miniconda3/lib/python3.10/site-packages/setuptools/_distutils/dist.py\", line 988, in run_command\n",
      "  \u001b[31m   \u001b[0m     cmd_obj.run()\n",
      "  \u001b[31m   \u001b[0m   File \"/Users/iskander/miniconda3/lib/python3.10/site-packages/wheel/bdist_wheel.py\", line 328, in run\n",
      "  \u001b[31m   \u001b[0m     impl_tag, abi_tag, plat_tag = self.get_tag()\n",
      "  \u001b[31m   \u001b[0m   File \"/Users/iskander/miniconda3/lib/python3.10/site-packages/wheel/bdist_wheel.py\", line 278, in get_tag\n",
      "  \u001b[31m   \u001b[0m     assert tag in supported_tags, \"would build wheel with unsupported tag {}\".format(tag)\n",
      "  \u001b[31m   \u001b[0m AssertionError: would build wheel with unsupported tag ('cp310', 'cp310', 'macosx_11_1_arm64')\n",
      "  \u001b[31m   \u001b[0m \u001b[31m[end of output]\u001b[0m\n",
      "  \n",
      "  \u001b[1;35mnote\u001b[0m: This error originates from a subprocess, and is likely not a problem with pip.\n",
      "\u001b[31m  ERROR: Failed building wheel for simpleaudio\u001b[0m\u001b[31m\n",
      "\u001b[0m\u001b[?25h  Running setup.py clean for simpleaudio\n"
     ]
    },
    {
     "name": "stdout",
     "output_type": "stream",
     "text": [
      "Failed to build simpleaudio\n",
      "Installing collected packages: simpleaudio\n",
      "  Running setup.py install for simpleaudio ... \u001b[?25ldone\n",
      "\u001b[33m  DEPRECATION: simpleaudio was installed using the legacy 'setup.py install' method, because a wheel could not be built for it. pip 23.1 will enforce this behaviour change. A possible replacement is to fix the wheel build issue reported above. Discussion can be found at https://github.com/pypa/pip/issues/8368\u001b[0m\u001b[33m\n",
      "\u001b[0m\u001b[?25hSuccessfully installed simpleaudio-1.0.4\n"
     ]
    }
   ],
   "source": [
    "!pip install simpleaudio "
   ]
  },
  {
   "cell_type": "code",
   "execution_count": 52,
   "id": "fe875b5c",
   "metadata": {},
   "outputs": [],
   "source": [
    "import simpleaudio \n",
    "import numpy as np\n",
    "# simpleaudio expects 16-bit integer values for wave height\n",
    "def play(single_channel_float_waveform, sampling_rate=16000):\n",
    "    # normalize to 16-bit range\n",
    "    min_int = -32768\n",
    "    max_int =  32767\n",
    "    int_range = max_int - min_int\n",
    "    normalized_waveform = single_channel_float_waveform - single_channel_float_waveform.min()\n",
    "    normalized_waveform /= normalized_waveform.max()\n",
    "    int32_waveform_from_0 = (normalized_waveform * int_range).astype(np.int32)\n",
    "    int32_waveform_from_min = int32_waveform_from_0 + min_int\n",
    "    int16_waveform = int32_waveform_from_min.astype(np.int16)\n",
    "    play_obj = simpleaudio.play_buffer(int16_waveform, 1, 2, 16000)\n",
    "    play_obj.wait_done()"
   ]
  },
  {
   "cell_type": "code",
   "execution_count": 55,
   "id": "97fb2a4a",
   "metadata": {},
   "outputs": [],
   "source": [
    "play(input_sound[0])"
   ]
  },
  {
   "cell_type": "code",
   "execution_count": 56,
   "id": "bf0548ab",
   "metadata": {},
   "outputs": [],
   "source": [
    "play(output_speech.numpy())"
   ]
  },
  {
   "cell_type": "code",
   "execution_count": null,
   "id": "4232d736",
   "metadata": {},
   "outputs": [],
   "source": []
  }
 ],
 "metadata": {
  "kernelspec": {
   "display_name": "Python 3 (ipykernel)",
   "language": "python",
   "name": "python3"
  },
  "language_info": {
   "codemirror_mode": {
    "name": "ipython",
    "version": 3
   },
   "file_extension": ".py",
   "mimetype": "text/x-python",
   "name": "python",
   "nbconvert_exporter": "python",
   "pygments_lexer": "ipython3",
   "version": "3.10.10"
  }
 },
 "nbformat": 4,
 "nbformat_minor": 5
}
